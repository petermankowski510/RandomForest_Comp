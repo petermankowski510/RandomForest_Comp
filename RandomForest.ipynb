{
 "cells": [
  {
   "cell_type": "code",
   "execution_count": 3,
   "metadata": {},
   "outputs": [
    {
     "name": "stdout",
     "output_type": "stream",
     "text": [
      "0.22.1\n"
     ]
    }
   ],
   "source": [
    "# check scikit-learn version\n",
    "import sklearn\n",
    "print(sklearn.__version__)"
   ]
  },
  {
   "cell_type": "code",
   "execution_count": 5,
   "metadata": {},
   "outputs": [
    {
     "name": "stdout",
     "output_type": "stream",
     "text": [
      ">10 0.856 (0.032)\n",
      ">60_75 0.882 (0.024)\n",
      ">60_80 0.901 (0.027)\n",
      ">60_85 0.892 (0.025)\n",
      ">60_90 0.897 (0.027)\n",
      ">60_95 0.902 (0.020)\n",
      ">60_100 0.890 (0.023)\n",
      ">60_105 0.893 (0.023)\n",
      ">60_110 0.896 (0.023)\n",
      ">100_115 0.902 (0.028)\n"
     ]
    },
    {
     "data": {
      "image/png": "[encoded data removed]",
      "text/plain": [
       "<Figure size 432x288 with 1 Axes>"
      ]
     },
     "metadata": {
      "needs_background": "light"
     },
     "output_type": "display_data"
    }
   ],
   "source": [
    "# explore random forest bootstrap sample size on performance\n",
    "from numpy import mean\n",
    "from numpy import std\n",
    "from sklearn.datasets import make_classification\n",
    "from sklearn.model_selection import cross_val_score\n",
    "from sklearn.model_selection import RepeatedStratifiedKFold\n",
    "from sklearn.ensemble import RandomForestClassifier\n",
    "from matplotlib import pyplot\n",
    "\n",
    "# get the dataset\n",
    "def get_dataset():\n",
    "    X, y = make_classification(n_samples=1000, n_features=20, n_informative=15, n_redundant=5, random_state=3)\n",
    "    return X, y\n",
    "\n",
    "# get a list of models to evaluate\n",
    "def get_models():\n",
    "    models = dict()\n",
    "    models['10'] = RandomForestClassifier(max_samples=0.1)\n",
    "    models['60_75'] = RandomForestClassifier(max_samples=0.6, max_features=4, n_estimators=75, max_depth=6, verbose=2)\n",
    "    models['60_80'] = RandomForestClassifier(max_samples=0.6, max_features=4, n_estimators=80, max_depth=None, verbose=2)\n",
    "    models['60_85'] = RandomForestClassifier(max_samples=0.6, max_features=4, n_estimators=85, max_depth=None, verbose=2)\n",
    "    models['60_90'] = RandomForestClassifier(max_samples=0.6, max_features=4, n_estimators=100, max_depth=None, verbose=2)\n",
    "    models['60_95'] = RandomForestClassifier(max_samples=0.6, max_features=4, n_estimators=195, max_depth=None, verbose=2)\n",
    "    models['60_100'] = RandomForestClassifier(max_samples=0.6, max_features=4, n_estimators=400, max_depth=7, verbose=1)\n",
    "    models['60_105'] = RandomForestClassifier(max_samples=0.6, max_features=4, n_estimators=605, max_depth=8, verbose=1)\n",
    "    models['60_110'] = RandomForestClassifier(max_samples=0.6, max_features=4, n_estimators=910, max_depth=9, verbose=1)\n",
    "    models['100_115'] = RandomForestClassifier(max_samples=None)\n",
    "    return models\n",
    "\n",
    "# evaluate a give model using cross-validation\n",
    "def evaluate_model(model):\n",
    "    cv = RepeatedStratifiedKFold(n_splits=10, n_repeats=3, random_state=1)\n",
    "    scores = cross_val_score(model, X, y, scoring='accuracy', cv=cv, n_jobs=-1, error_score='raise')\n",
    "    return scores\n",
    "\n",
    "# define dataset\n",
    "X, y = get_dataset()\n",
    "\n",
    "# get the models to evaluate\n",
    "models = get_models()\n",
    "\n",
    "# evaluate the models and store results\n",
    "results, names = list(), list()\n",
    "\n",
    "for name, model in models.items():\n",
    "\tscores = evaluate_model(model)\n",
    "\tresults.append(scores)\n",
    "\tnames.append(name)\n",
    "\tprint('>%s %.3f (%.3f)' % (name, mean(scores), std(scores)))\n",
    "# plot model performance for comparison\n",
    "pyplot.boxplot(results, labels=names, showmeans=True)\n",
    "pyplot.xticks(rotation=45)\n",
    "pyplot.show()"
   ]
  },
  {
   "cell_type": "code",
   "execution_count": null,
   "metadata": {},
   "outputs": [],
   "source": []
  }
 ],
 "metadata": {
  "kernelspec": {
   "display_name": "Python 3",
   "language": "python",
   "name": "python3"
  },
  "language_info": {
   "codemirror_mode": {
    "name": "ipython",
    "version": 3
   },
   "file_extension": ".py",
   "mimetype": "text/x-python",
   "name": "python",
   "nbconvert_exporter": "python",
   "pygments_lexer": "ipython3",
   "version": "3.7.4"
  }
 },
 "nbformat": 4,
 "nbformat_minor": 2
}
